{
 "cells": [
  {
   "cell_type": "markdown",
   "id": "6ffec537-30d7-4d01-82b1-95177d8fc65a",
   "metadata": {},
   "source": [
    "The Julia function calculate_pi(n) is an implementation of a numerical method to approximate the mathematical constant π (pi) using a series. It approximates π using the Basel problem, which is a famous problem in mathematics."
   ]
  },
  {
   "cell_type": "code",
   "execution_count": 1,
   "id": "4b448406-f268-4e17-97f1-8395ba1b3b5a",
   "metadata": {},
   "outputs": [
    {
     "data": {
      "text/plain": [
       "calculate_pi (generic function with 1 method)"
      ]
     },
     "execution_count": 1,
     "metadata": {},
     "output_type": "execute_result"
    }
   ],
   "source": [
    "function calculate_pi(n)\n",
    "           s = 0.0\n",
    "           for i in 1:n\n",
    "               s += 1.0 / (i * i)\n",
    "           end\n",
    "           π ≈ sqrt(6s)\n",
    "       end"
   ]
  },
  {
   "cell_type": "code",
   "execution_count": 2,
   "id": "872a4937-506f-466f-bd9a-4f232eb6eeb0",
   "metadata": {},
   "outputs": [
    {
     "name": "stdout",
     "output_type": "stream",
     "text": [
      "  1.579941 seconds\n"
     ]
    },
    {
     "data": {
      "text/plain": [
       "true"
      ]
     },
     "execution_count": 2,
     "metadata": {},
     "output_type": "execute_result"
    }
   ],
   "source": [
    "@time calculate_pi(1000000000)"
   ]
  },
  {
   "cell_type": "markdown",
   "id": "fe3e1d12-49fd-42e6-819e-5786abc85f8d",
   "metadata": {},
   "source": [
    "calculates the sum of squares of integers from 1 to n and returns the result"
   ]
  },
  {
   "cell_type": "code",
   "execution_count": 3,
   "id": "93056de7-9fdd-48ad-b45a-0e05c90a07c2",
   "metadata": {},
   "outputs": [
    {
     "data": {
      "text/plain": [
       "julia_speed_test (generic function with 1 method)"
      ]
     },
     "execution_count": 3,
     "metadata": {},
     "output_type": "execute_result"
    }
   ],
   "source": [
    "function julia_speed_test(n)\n",
    "    s = 0.0\n",
    "    for i in 1:n\n",
    "        s += i^2\n",
    "    end\n",
    "    return s\n",
    "end"
   ]
  },
  {
   "cell_type": "code",
   "execution_count": 4,
   "id": "e2b9713a-6208-4bb8-917b-a4007028b98f",
   "metadata": {},
   "outputs": [
    {
     "name": "stdout",
     "output_type": "stream",
     "text": [
      "Julia execution time: 1.5334345 seconds\n"
     ]
    }
   ],
   "source": [
    "using BenchmarkTools\n",
    "\n",
    "n = 1000000000\n",
    "\n",
    "julia_time = @belapsed julia_speed_test($n)\n",
    "println(\"Julia execution time: $julia_time seconds\")"
   ]
  },
  {
   "cell_type": "markdown",
   "id": "0b1480c3-c4af-475a-9036-8878175986da",
   "metadata": {},
   "source": [
    "## Dataframe test"
   ]
  },
  {
   "cell_type": "markdown",
   "id": "938ca6ac-ba3a-4ca1-b479-cc312e00eb6b",
   "metadata": {},
   "source": [
    "create a large DataFrame and perform the operation on the \"Value\" column by multiplying it by 2."
   ]
  },
  {
   "cell_type": "code",
   "execution_count": 12,
   "id": "15143751-9c3e-4096-b55a-2ea2bdd46b04",
   "metadata": {},
   "outputs": [
    {
     "name": "stdout",
     "output_type": "stream",
     "text": [
      "  270.728 ms (15 allocations: 1.49 GiB)\n"
     ]
    },
    {
     "data": {
      "text/plain": [
       "100000000-element Vector{Float64}:\n",
       "  26096.318025688088\n",
       "  39061.9923534297\n",
       "  83358.07110096596\n",
       " 178187.13822903243\n",
       " 101934.03619122008\n",
       "  76881.94460205638\n",
       "  95929.35222310881\n",
       " 199996.30892196167\n",
       " 198479.66578730496\n",
       " 108940.473803964\n",
       " 100523.34515488573\n",
       "  64963.047797948035\n",
       "  94256.45658075297\n",
       "      ⋮\n",
       " 121657.6444270827\n",
       " 114718.36280715663\n",
       " 159825.40085177548\n",
       "  79317.29795222284\n",
       "  23758.296069011558\n",
       "   7520.026547038666\n",
       " 249053.5937434243\n",
       "  74134.50340919703\n",
       "  76403.04802787493\n",
       "  58872.41655288925\n",
       " 114595.1149695063\n",
       "  18091.91272939043"
      ]
     },
     "execution_count": 12,
     "metadata": {},
     "output_type": "execute_result"
    }
   ],
   "source": [
    "using DataFrames\n",
    "using BenchmarkTools\n",
    "\n",
    "# Create a DataFrame with a large number of rows\n",
    "n = 10^8\n",
    "df = DataFrame(ID = 1:n, Value = rand(n))\n",
    "\n",
    "# Define the operation\n",
    "function julia_dataframe_operation(df)\n",
    "    df.Value .= df.Value * 2\n",
    "end\n",
    "\n",
    "# Measure the execution time\n",
    "@btime julia_dataframe_operation($df)\n"
   ]
  },
  {
   "cell_type": "code",
   "execution_count": 9,
   "id": "2e610cf3-3422-45b8-86b8-bc76cda4ca29",
   "metadata": {},
   "outputs": [
    {
     "data": {
      "text/plain": [
       "greet (generic function with 1 method)"
      ]
     },
     "execution_count": 9,
     "metadata": {},
     "output_type": "execute_result"
    }
   ],
   "source": [
    "function greet(person::String, language::String)\n",
    "    if language == \"English\"\n",
    "        println(\"Hello, $person\")\n",
    "    elseif language == \"Spanish\"\n",
    "        println(\"¡Hola, $person\")\n",
    "    else\n",
    "        println(\"Language not supported\")\n",
    "    end\n",
    "end"
   ]
  },
  {
   "cell_type": "code",
   "execution_count": 10,
   "id": "8a9997e7-8ed3-48dd-a4e7-18be5de8e89d",
   "metadata": {},
   "outputs": [
    {
     "name": "stdout",
     "output_type": "stream",
     "text": [
      "Hello, stephen\n"
     ]
    }
   ],
   "source": [
    "greet(\"stephen\", \"English\")"
   ]
  },
  {
   "cell_type": "code",
   "execution_count": null,
   "id": "0aa583ce-22f6-49af-9b7c-90061f015f2b",
   "metadata": {},
   "outputs": [],
   "source": []
  }
 ],
 "metadata": {
  "kernelspec": {
   "display_name": "Julia 1.9.3",
   "language": "julia",
   "name": "julia-1.9"
  },
  "language_info": {
   "file_extension": ".jl",
   "mimetype": "application/julia",
   "name": "julia",
   "version": "1.9.3"
  }
 },
 "nbformat": 4,
 "nbformat_minor": 5
}
