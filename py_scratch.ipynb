{
 "cells": [
  {
   "cell_type": "markdown",
   "id": "0eadf4ed-0ea5-40f5-8e39-f731ac190963",
   "metadata": {},
   "source": [
    "This Python function calculates an approximation of π using the same formula and a for loop to sum the series. It returns True if the result is close to π, using the math.isclose function to check for approximate equality.\n",
    "\n",
    "Python comparison to this julia function which takes 0.01 seconds:\n",
    "```\n",
    "function calculate_pi(n)\n",
    "           s = 0.0\n",
    "           for i in 1:n\n",
    "               s += 1.0 / (i * i)\n",
    "           end\n",
    "           π ≈ sqrt(6s)\n",
    "       end\n",
    "calculate_pi (generic function with 1 method)\n",
    "```"
   ]
  },
  {
   "cell_type": "code",
   "execution_count": 1,
   "id": "422069a3-0239-467c-854b-a175947cc46e",
   "metadata": {},
   "outputs": [
    {
     "name": "stderr",
     "output_type": "stream",
     "text": [
      "/var/folders/n0/f4qf7xrx6c378h_dcn10fm2c0000gq/T/ipykernel_26998/3097258264.py:5: NumbaDeprecationWarning: \u001b[1mThe 'nopython' keyword argument was not supplied to the 'numba.jit' decorator. The implicit default value for this argument is currently False, but it will be changed to True in Numba 0.59.0. See https://numba.readthedocs.io/en/stable/reference/deprecation.html#deprecation-of-object-mode-fall-back-behaviour-when-using-jit for details.\u001b[0m\n",
      "  @jit\n"
     ]
    }
   ],
   "source": [
    "import math\n",
    "import time\n",
    "from numba import jit, int32\n",
    "\n",
    "@jit\n",
    "def calculate_pi(n):\n",
    "    s = 0.0\n",
    "    for i in range(1, n + 1):\n",
    "        s += 1.0 / (i * i)\n",
    "    return math.isclose(math.sqrt(6 * s), math.pi)"
   ]
  },
  {
   "cell_type": "code",
   "execution_count": 2,
   "id": "40604f70-82ba-4d7c-afd9-40df6b803527",
   "metadata": {},
   "outputs": [
    {
     "name": "stderr",
     "output_type": "stream",
     "text": [
      "/var/folders/n0/f4qf7xrx6c378h_dcn10fm2c0000gq/T/ipykernel_26998/3097258264.py:5: NumbaWarning: \u001b[1m\n",
      "Compilation is falling back to object mode WITH looplifting enabled because Function \"calculate_pi\" failed type inference due to: \u001b[1m\u001b[1mUnknown attribute 'isclose' of type Module(<module 'math' from '/opt/homebrew/Cellar/python@3.11/3.11.6_1/Frameworks/Python.framework/Versions/3.11/lib/python3.11/lib-dynload/math.cpython-311-darwin.so'>)\n",
      "\u001b[1m\n",
      "File \"../../../../../../../../../../var/folders/n0/f4qf7xrx6c378h_dcn10fm2c0000gq/T/ipykernel_26998/3097258264.py\", line 10:\u001b[0m\n",
      "\u001b[1m<source missing, REPL/exec in use?>\u001b[0m\n",
      "\u001b[0m\n",
      "\u001b[0m\u001b[1mDuring: typing of get attribute at /var/folders/n0/f4qf7xrx6c378h_dcn10fm2c0000gq/T/ipykernel_26998/3097258264.py (10)\u001b[0m\n",
      "\u001b[1m\n",
      "File \"../../../../../../../../../../var/folders/n0/f4qf7xrx6c378h_dcn10fm2c0000gq/T/ipykernel_26998/3097258264.py\", line 10:\u001b[0m\n",
      "\u001b[1m<source missing, REPL/exec in use?>\u001b[0m\n",
      "\u001b[0m\n",
      "  @jit\n",
      "/var/folders/n0/f4qf7xrx6c378h_dcn10fm2c0000gq/T/ipykernel_26998/3097258264.py:5: NumbaWarning: \u001b[1m\n",
      "Compilation is falling back to object mode WITHOUT looplifting enabled because Function \"calculate_pi\" failed type inference due to: \u001b[1m\u001b[1mCannot determine Numba type of <class 'numba.core.dispatcher.LiftedLoop'>\u001b[0m\n",
      "\u001b[1m\n",
      "File \"../../../../../../../../../../var/folders/n0/f4qf7xrx6c378h_dcn10fm2c0000gq/T/ipykernel_26998/3097258264.py\", line 8:\u001b[0m\n",
      "\u001b[1m<source missing, REPL/exec in use?>\u001b[0m\n",
      "\u001b[0m\u001b[0m\n",
      "  @jit\n",
      "/Users/stephen.checkley/base-env/lib/python3.11/site-packages/numba/core/object_mode_passes.py:151: NumbaWarning: \u001b[1mFunction \"calculate_pi\" was compiled in object mode without forceobj=True, but has lifted loops.\n",
      "\u001b[1m\n",
      "File \"../../../../../../../../../../var/folders/n0/f4qf7xrx6c378h_dcn10fm2c0000gq/T/ipykernel_26998/3097258264.py\", line 5:\u001b[0m\n",
      "\u001b[1m<source missing, REPL/exec in use?>\u001b[0m\n",
      "\u001b[0m\n",
      "  warnings.warn(errors.NumbaWarning(warn_msg,\n",
      "/Users/stephen.checkley/base-env/lib/python3.11/site-packages/numba/core/object_mode_passes.py:161: NumbaDeprecationWarning: \u001b[1m\n",
      "Fall-back from the nopython compilation path to the object mode compilation path has been detected. This is deprecated behaviour that will be removed in Numba 0.59.0.\n",
      "\n",
      "For more information visit https://numba.readthedocs.io/en/stable/reference/deprecation.html#deprecation-of-object-mode-fall-back-behaviour-when-using-jit\n",
      "\u001b[1m\n",
      "File \"../../../../../../../../../../var/folders/n0/f4qf7xrx6c378h_dcn10fm2c0000gq/T/ipykernel_26998/3097258264.py\", line 5:\u001b[0m\n",
      "\u001b[1m<source missing, REPL/exec in use?>\u001b[0m\n",
      "\u001b[0m\n",
      "  warnings.warn(errors.NumbaDeprecationWarning(msg,\n"
     ]
    },
    {
     "name": "stdout",
     "output_type": "stream",
     "text": [
      "elapsed time: 2.1663119792938232 seconds.\n"
     ]
    }
   ],
   "source": [
    "st = time.time()\n",
    "calculate_pi(1000000000)\n",
    "et = time.time()\n",
    "dt = et-st\n",
    "print(f\"elapsed time: {dt} seconds.\")"
   ]
  },
  {
   "cell_type": "markdown",
   "id": "e019f5d6-6986-4333-8fe2-c195119f573a",
   "metadata": {},
   "source": [
    "calculates the sum of squares of integers from 1 to n and returns the result"
   ]
  },
  {
   "cell_type": "code",
   "execution_count": 3,
   "id": "87985bdf-fa35-4957-ab19-99c6aa30cf26",
   "metadata": {},
   "outputs": [
    {
     "name": "stderr",
     "output_type": "stream",
     "text": [
      "/var/folders/n0/f4qf7xrx6c378h_dcn10fm2c0000gq/T/ipykernel_26998/1448437424.py:1: NumbaDeprecationWarning: \u001b[1mThe 'nopython' keyword argument was not supplied to the 'numba.jit' decorator. The implicit default value for this argument is currently False, but it will be changed to True in Numba 0.59.0. See https://numba.readthedocs.io/en/stable/reference/deprecation.html#deprecation-of-object-mode-fall-back-behaviour-when-using-jit for details.\u001b[0m\n",
      "  @jit\n"
     ]
    }
   ],
   "source": [
    "@jit\n",
    "def python_speed_test(n):\n",
    "    s = 0.0\n",
    "    for i in range(1, n + 1):\n",
    "        s += i**2\n",
    "    return s"
   ]
  },
  {
   "cell_type": "code",
   "execution_count": 4,
   "id": "f3b5f3cd-aa1b-4015-ab4b-81af39c590c6",
   "metadata": {},
   "outputs": [
    {
     "name": "stdout",
     "output_type": "stream",
     "text": [
      "Python execution time: 1.623409 seconds\n"
     ]
    }
   ],
   "source": [
    "import timeit\n",
    "\n",
    "n = 1000000000\n",
    "\n",
    "python_time = timeit.timeit('python_speed_test(n)', globals=globals(), number=1)\n",
    "print(f\"Python execution time: {python_time:.6f} seconds\")"
   ]
  },
  {
   "cell_type": "code",
   "execution_count": null,
   "id": "7ba0f977-566a-4329-8341-337692916b13",
   "metadata": {},
   "outputs": [],
   "source": []
  },
  {
   "cell_type": "markdown",
   "id": "58b65009-703e-40f6-ae64-21fd67260e68",
   "metadata": {},
   "source": [
    "create a large DataFrame and perform the operation on the \"Value\" column by multiplying it by 2."
   ]
  },
  {
   "cell_type": "code",
   "execution_count": 7,
   "id": "1178842e-9612-4588-9c84-9dd874ece23e",
   "metadata": {},
   "outputs": [
    {
     "name": "stdout",
     "output_type": "stream",
     "text": [
      "Python Polars execution time: 0.155414 seconds\n"
     ]
    }
   ],
   "source": [
    "import polars as pl\n",
    "import timeit\n",
    "\n",
    "# Create a Polars DataFrame with a large number of rows\n",
    "n = 10**8\n",
    "df = pl.DataFrame({\"ID\": list(range(1, n+1)), \"Value\": list(range(n))})\n",
    "\n",
    "# Define the operation\n",
    "def python_polars_operation(df):\n",
    "    df = df.with_columns(df['Value'] * 2)\n",
    "    return df\n",
    "\n",
    "# Measure the execution time\n",
    "python_time = timeit.timeit('python_polars_operation(df)', globals=globals(), number=1)\n",
    "print(f\"Python Polars execution time: {python_time:.6f} seconds\")\n"
   ]
  },
  {
   "cell_type": "markdown",
   "id": "e2d75164-bb09-46c6-a0c6-02e16785a61e",
   "metadata": {},
   "source": [
    "pandas for comparison"
   ]
  },
  {
   "cell_type": "code",
   "execution_count": 8,
   "id": "171f0fb4-cc3a-43be-99cb-6c1bd5b5a760",
   "metadata": {},
   "outputs": [
    {
     "name": "stdout",
     "output_type": "stream",
     "text": [
      "Python Pandas execution time: 0.317836 seconds\n"
     ]
    }
   ],
   "source": [
    "import pandas as pd\n",
    "import timeit\n",
    "\n",
    "# Create a Pandas DataFrame with a large number of rows\n",
    "n = 10**8\n",
    "df = pd.DataFrame({\"ID\": list(range(1, n+1)), \"Value\": list(range(n))})\n",
    "\n",
    "# Define the operation\n",
    "def python_pandas_operation(df):\n",
    "    df['Value'] = df['Value'] * 2\n",
    "    return df\n",
    "\n",
    "# Measure the execution time\n",
    "python_time = timeit.timeit('python_pandas_operation(df)', globals=globals(), number=1)\n",
    "print(f\"Python Pandas execution time: {python_time:.6f} seconds\")\n"
   ]
  },
  {
   "cell_type": "code",
   "execution_count": null,
   "id": "599e578d-4c2e-47b3-9986-348399802041",
   "metadata": {},
   "outputs": [],
   "source": []
  }
 ],
 "metadata": {
  "kernelspec": {
   "display_name": "Python 3 (ipykernel)",
   "language": "python",
   "name": "python3"
  },
  "language_info": {
   "codemirror_mode": {
    "name": "ipython",
    "version": 3
   },
   "file_extension": ".py",
   "mimetype": "text/x-python",
   "name": "python",
   "nbconvert_exporter": "python",
   "pygments_lexer": "ipython3",
   "version": "3.11.6"
  }
 },
 "nbformat": 4,
 "nbformat_minor": 5
}
